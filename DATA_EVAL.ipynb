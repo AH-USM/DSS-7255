{
 "cells": [
  {
   "cell_type": "code",
   "execution_count": null,
   "id": "e9bd9d90-09a3-4f24-827b-d3734df25314",
   "metadata": {},
   "outputs": [],
   "source": [
    "import matplotlib.pyplot as plt\n",
    "import numpy as np\n",
    "import pandas as pd\n",
    "from sklearn.decomposition import PCA\n",
    "from sklearn.ensemble import RandomForestClassifier\n",
    "from sklearn.feature_selection import RFECV\n",
    "from sklearn.metrics import  auc, classification_report, confusion_matrix, accuracy_score, roc_curve\n",
    "from sklearn.model_selection import train_test_split, StratifiedKFold\n",
    "from sklearn.preprocessing import StandardScaler"
   ]
  },
  {
   "cell_type": "code",
   "execution_count": null,
   "id": "5531e0eb-1dc7-40c6-9df0-8bc4aa3663a1",
   "metadata": {},
   "outputs": [],
   "source": [
    "df = pd.read_csv('BoTNeTIoT-L01-v2.csv')"
   ]
  },
  {
   "cell_type": "code",
   "execution_count": null,
   "id": "f0c299e4-5856-47e5-b122-931e8491f05b",
   "metadata": {},
   "outputs": [],
   "source": [
    "df = df.drop(columns=['Device_Name','Attack','Attack_subType'], errors='ignore')"
   ]
  },
  {
   "cell_type": "code",
   "execution_count": null,
   "id": "9f5a3d39-3526-4db8-abec-d539104507e4",
   "metadata": {},
   "outputs": [],
   "source": [
    "X = df.drop('label',axis=1)\n",
    "y = df['label']"
   ]
  },
  {
   "cell_type": "code",
   "execution_count": null,
   "id": "53c0cf30-b5ae-4311-80a3-79bc4aaa2255",
   "metadata": {},
   "outputs": [],
   "source": [
    "X_train, X_test, y_train, y_test = train_test_split(X, y, test_size=0.2, stratify=y, random_state=42)"
   ]
  },
  {
   "cell_type": "code",
   "execution_count": null,
   "id": "a8ed8136-1d44-47ba-b96c-aba4c958274f",
   "metadata": {},
   "outputs": [],
   "source": [
    "scaler = StandardScaler()\n",
    "X_train = scaler.fit_transform(X_train)\n",
    "X_test = scaler.transform(X_test)"
   ]
  },
  {
   "cell_type": "code",
   "execution_count": null,
   "id": "5bae3087-0a6d-49b9-8f68-d2f45c75bf00",
   "metadata": {},
   "outputs": [],
   "source": [
    "estimator = RandomForestClassifier(n_estimators=10, random_state=42, n_jobs=-1, verbose=1)\n",
    "skf = StratifiedKFold(n_splits=5)\n",
    "rfecv = RFECV(estimator, step=1, cv=skf, scoring='accuracy', n_jobs=-1)\n",
    "rfecv.fit(X_train, y_train)\n",
    "X_train_sel = rfecv.transform(X_train)\n",
    "X_test_sel = rfecv.transform(X_test)"
   ]
  },
  {
   "cell_type": "code",
   "execution_count": null,
   "id": "4c17ac8e-cce7-456f-a9da-ff9be49acc16",
   "metadata": {},
   "outputs": [],
   "source": [
    "print(\"Optimal number of features:\", rfecv.n_features_)"
   ]
  },
  {
   "cell_type": "code",
   "execution_count": null,
   "id": "190fbd1a-5327-4de6-82da-1e28ac76bca5",
   "metadata": {},
   "outputs": [],
   "source": [
    "y_pred_rf = rfecv.predict(X_test_sel)\n",
    "print(\"Random Forest Classification Report:\\n\", classification_report(y_test, y_pred_rf))\n",
    "print(\"Confusion Matrix:\\n\", confusion_matrix(y_test, y_pred_rf))"
   ]
  },
  {
   "cell_type": "code",
   "execution_count": null,
   "id": "0820b3ab-2c79-4d0a-84f6-8140a2298afe",
   "metadata": {},
   "outputs": [],
   "source": [
    "rf_probs = rfecv.predict_proba(X_test_sel)[:, 1]\n",
    "fpr_rf, tpr_rf, _ = roc_curve(y_test, rf_probs)\n",
    "auc_rf = auc(fpr_rf, tpr_rf)\n",
    "\n",
    "plt.figure(figsize=(10,6))\n",
    "plt.plot(fpr_rf, tpr_rf, label=f'Random Forest (AUC = {auc_rf:.2f})')\n",
    "plt.plot([0, 1], [0, 1], 'k--', lw=2)\n",
    "plt.xlabel('False Positive Rate')\n",
    "plt.ylabel('True Positive Rate')\n",
    "plt.title('ROC Curve Comparison')\n",
    "plt.legend(loc='lower right')\n",
    "plt.grid(True)\n",
    "plt.show()"
   ]
  }
 ],
 "metadata": {
  "kernelspec": {
   "display_name": "Python 3 (ipykernel)",
   "language": "python",
   "name": "python3"
  },
  "language_info": {
   "codemirror_mode": {
    "name": "ipython",
    "version": 3
   },
   "file_extension": ".py",
   "mimetype": "text/x-python",
   "name": "python",
   "nbconvert_exporter": "python",
   "pygments_lexer": "ipython3",
   "version": "3.10.0"
  }
 },
 "nbformat": 4,
 "nbformat_minor": 5
}
