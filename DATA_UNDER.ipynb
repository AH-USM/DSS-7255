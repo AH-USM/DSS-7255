{
 "cells": [
  {
   "cell_type": "code",
   "execution_count": null,
   "id": "e9bd9d90-09a3-4f24-827b-d3734df25314",
   "metadata": {},
   "outputs": [],
   "source": [
    "import matplotlib.pyplot as plt\n",
    "import numpy as np\n",
    "import pandas as pd\n",
    "import seaborn as sns"
   ]
  },
  {
   "cell_type": "code",
   "execution_count": null,
   "id": "5531e0eb-1dc7-40c6-9df0-8bc4aa3663a1",
   "metadata": {},
   "outputs": [],
   "source": [
    "df = pd.read_csv('data\\BoTNeTIoT-L01-v2.csv')"
   ]
  },
  {
   "cell_type": "code",
   "execution_count": null,
   "id": "6a483c4a-d1bb-4bf7-afda-1a1da0da3c44",
   "metadata": {},
   "outputs": [],
   "source": [
    "print(\"Missing values per column:\", df.isnull().sum())"
   ]
  },
  {
   "cell_type": "code",
   "execution_count": null,
   "id": "a1be9c80-d40d-47ff-b18c-553f77bd9189",
   "metadata": {},
   "outputs": [],
   "source": [
    "print(\"Dataset shape:\", df.shape)\n",
    "print(\"Label distribution:\\n\", df['label'].value_counts())\n",
    "print(df.describe())"
   ]
  },
  {
   "cell_type": "code",
   "execution_count": null,
   "id": "dad590e7-8e35-4a31-aa6b-7a0fcd998118",
   "metadata": {},
   "outputs": [],
   "source": [
    "df.head()"
   ]
  },
  {
   "cell_type": "code",
   "execution_count": null,
   "id": "6ef43643-d133-4413-bccd-f88d2fce510e",
   "metadata": {},
   "outputs": [],
   "source": [
    "plt.figure(figsize=(12,10))\n",
    "sns.heatmap(df.corr(numeric_only=True), cmap='coolwarm', fmt='.2f')\n",
    "plt.title('Feature Correlation Heatmap')\n",
    "plt.show()"
   ]
  }
 ],
 "metadata": {
  "kernelspec": {
   "display_name": "Python 3 (ipykernel)",
   "language": "python",
   "name": "python3"
  },
  "language_info": {
   "codemirror_mode": {
    "name": "ipython",
    "version": 3
   },
   "file_extension": ".py",
   "mimetype": "text/x-python",
   "name": "python",
   "nbconvert_exporter": "python",
   "pygments_lexer": "ipython3",
   "version": "3.10.0"
  }
 },
 "nbformat": 4,
 "nbformat_minor": 5
}
